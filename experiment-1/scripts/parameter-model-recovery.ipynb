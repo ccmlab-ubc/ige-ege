{
 "cells": [
  {
   "cell_type": "code",
   "execution_count": null,
   "id": "ca3d0e98-18f6-4982-8394-964de5d360ea",
   "metadata": {},
   "outputs": [],
   "source": [
    "import matplotlib.pyplot as plt\n",
    "import numpy as np\n",
    "import pandas as pd\n",
    "import seaborn as sns\n",
    "from scipy.special import logsumexp\n",
    "from scipy.stats import norm\n",
    "import random\n",
    "\n",
    "# Set some defaults\n",
    "plt.rc(\"axes.spines\", top=False, right=False)\n",
    "\n",
    "sns.set_theme(context=\"paper\", font_scale=1.2)\n",
    "sns.set_style(\"ticks\")\n",
    "\n",
    "# Import python library/function for function optimization\n",
    "import scipy.optimize\n",
    "\n",
    "%config InlineBackend.figure_format = \"retina\""
   ]
  },
  {
   "cell_type": "markdown",
   "id": "a263883f-f5b1-48b9-af50-fe9acfaad7a8",
   "metadata": {},
   "source": [
    "## The Plan\n",
    "\n",
    "### Parameter and model recovery (Can I do both at same time?)\n",
    "1) Simulate data using best-fit parameters from each model (or samples from within the range of best-fits). For example, 100 simulations of each model within range of best-fit parameters.\n",
    "2) Re-estimate parameters.\n",
    "3) Model comparison with AIC/BIC. \n",
    "4) Correlate parameters used for simulation with recovered parameters.\n"
   ]
  },
  {
   "cell_type": "code",
   "execution_count": null,
   "id": "1d1c043a-c51f-421c-9ed3-4f8c5e62075a",
   "metadata": {},
   "outputs": [],
   "source": [
    "for i in range(len(subjects)):\n",
    "    # Unpack parameters\n",
    "    pea_mle = params.loc[params[\"model\"] == \"pea\", \"theta\"].values[0]\n",
    "\n",
    "    # Simulate\n",
    "    # PEA model\n",
    "    _, xhat_pea = pea(\n",
    "        pea_mle[0], \n",
    "        pea_mle[1], \n",
    "        sigma_motor, len(sample_subj), \n",
    "        sample_subj[\"fbi\"], \n",
    "        sample_subj[\"rotation\"],\n",
    "        fit=False\n",
    "    )\n",
    "\n",
    "    # Fit simulated data\n",
    "    # PEA model params: sigma_comb, B\n",
    "        bounds = ((0.5, 25), (0, 1))\n",
    "        tmp_pea = scipy.optimize.minimize(\n",
    "            fun=nll_pea, \n",
    "            bounds=bounds,\n",
    "            x0=np.array([np.random.uniform(low=bounds[0][0], high=bounds[0][1]),\n",
    "                         np.random.uniform(low=bounds[1][0], high=bounds[1][1])])\n",
    "        )\n",
    "    \n",
    "    # Model selection\n",
    "    bic.extend([calc_bic(pea_results.fun * -1, len(pea_results.x), len(subj))])\n",
    "    aic.extend..."
   ]
  }
 ],
 "metadata": {
  "kernelspec": {
   "display_name": "ige-ege",
   "language": "python",
   "name": "ige-ege"
  },
  "language_info": {
   "codemirror_mode": {
    "name": "ipython",
    "version": 3
   },
   "file_extension": ".py",
   "mimetype": "text/x-python",
   "name": "python",
   "nbconvert_exporter": "python",
   "pygments_lexer": "ipython3",
   "version": "3.11.5"
  }
 },
 "nbformat": 4,
 "nbformat_minor": 5
}
